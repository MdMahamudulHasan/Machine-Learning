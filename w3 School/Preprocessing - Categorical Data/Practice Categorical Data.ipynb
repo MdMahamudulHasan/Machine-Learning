{
 "cells": [
  {
   "cell_type": "code",
   "execution_count": 2,
   "id": "eb5fdaf8",
   "metadata": {},
   "outputs": [
    {
     "name": "stdout",
     "output_type": "stream",
     "text": [
      "           Car       Model  Volume  Weight  CO2\n",
      "0       Toyoty        Aygo    1000     790   99\n",
      "1   Mitsubishi  Space Star    1200    1160   95\n",
      "2        Skoda      Citigo    1000     929   95\n",
      "3         Fiat         500     900     865   90\n",
      "4         Mini      Cooper    1500    1140  105\n",
      "5           VW         Up!    1000     929  105\n",
      "6        Skoda       Fabia    1400    1109   90\n",
      "7     Mercedes     A-Class    1500    1365   92\n",
      "8         Ford      Fiesta    1500    1112   98\n",
      "9         Audi          A1    1600    1150   99\n",
      "10     Hyundai         I20    1100     980   99\n",
      "11      Suzuki       Swift    1300     990  101\n",
      "12        Ford      Fiesta    1000    1112   99\n",
      "13       Honda       Civic    1600    1252   94\n",
      "14      Hundai         I30    1600    1326   97\n",
      "15        Opel       Astra    1600    1330   97\n",
      "16         BMW           1    1600    1365   99\n",
      "17       Mazda           3    2200    1280  104\n",
      "18       Skoda       Rapid    1600    1119  104\n",
      "19        Ford       Focus    2000    1328  105\n",
      "20        Ford      Mondeo    1600    1584   94\n",
      "21        Opel    Insignia    2000    1428   99\n",
      "22    Mercedes     C-Class    2100    1365   99\n",
      "23       Skoda     Octavia    1600    1415   99\n",
      "24       Volvo         S60    2000    1415   99\n",
      "25    Mercedes         CLA    1500    1465  102\n",
      "26        Audi          A4    2000    1490  104\n",
      "27        Audi          A6    2000    1725  114\n",
      "28       Volvo         V70    1600    1523  109\n",
      "29         BMW           5    2000    1705  114\n",
      "30    Mercedes     E-Class    2100    1605  115\n",
      "31       Volvo        XC70    2000    1746  117\n",
      "32        Ford       B-Max    1600    1235  104\n",
      "33         BMW         216    1600    1390  108\n",
      "34        Opel      Zafira    1600    1405  109\n",
      "35    Mercedes         SLK    2500    1395  120\n"
     ]
    }
   ],
   "source": [
    "# load and show data\n",
    "import pandas as pd \n",
    "\n",
    "cars = pd.read_csv(\"G:/Machine Learning/w3 School/Multiple Regression/data.csv\")\n",
    "\n",
    "print(cars.to_string())"
   ]
  },
  {
   "cell_type": "code",
   "execution_count": 4,
   "id": "d9cd5c29",
   "metadata": {
    "scrolled": false
   },
   "outputs": [
    {
     "name": "stdout",
     "output_type": "stream",
     "text": [
      "    Car_Audi  Car_BMW  Car_Fiat  Car_Ford  Car_Honda  Car_Hundai  Car_Hyundai  Car_Mazda  Car_Mercedes  Car_Mini  Car_Mitsubishi  Car_Opel  Car_Skoda  Car_Suzuki  Car_Toyoty  Car_VW  Car_Volvo\n",
      "0          0        0         0         0          0           0            0          0             0         0               0         0          0           0           1       0          0\n",
      "1          0        0         0         0          0           0            0          0             0         0               1         0          0           0           0       0          0\n",
      "2          0        0         0         0          0           0            0          0             0         0               0         0          1           0           0       0          0\n",
      "3          0        0         1         0          0           0            0          0             0         0               0         0          0           0           0       0          0\n",
      "4          0        0         0         0          0           0            0          0             0         1               0         0          0           0           0       0          0\n",
      "5          0        0         0         0          0           0            0          0             0         0               0         0          0           0           0       1          0\n",
      "6          0        0         0         0          0           0            0          0             0         0               0         0          1           0           0       0          0\n",
      "7          0        0         0         0          0           0            0          0             1         0               0         0          0           0           0       0          0\n",
      "8          0        0         0         1          0           0            0          0             0         0               0         0          0           0           0       0          0\n",
      "9          1        0         0         0          0           0            0          0             0         0               0         0          0           0           0       0          0\n",
      "10         0        0         0         0          0           0            1          0             0         0               0         0          0           0           0       0          0\n",
      "11         0        0         0         0          0           0            0          0             0         0               0         0          0           1           0       0          0\n",
      "12         0        0         0         1          0           0            0          0             0         0               0         0          0           0           0       0          0\n",
      "13         0        0         0         0          1           0            0          0             0         0               0         0          0           0           0       0          0\n",
      "14         0        0         0         0          0           1            0          0             0         0               0         0          0           0           0       0          0\n",
      "15         0        0         0         0          0           0            0          0             0         0               0         1          0           0           0       0          0\n",
      "16         0        1         0         0          0           0            0          0             0         0               0         0          0           0           0       0          0\n",
      "17         0        0         0         0          0           0            0          1             0         0               0         0          0           0           0       0          0\n",
      "18         0        0         0         0          0           0            0          0             0         0               0         0          1           0           0       0          0\n",
      "19         0        0         0         1          0           0            0          0             0         0               0         0          0           0           0       0          0\n",
      "20         0        0         0         1          0           0            0          0             0         0               0         0          0           0           0       0          0\n",
      "21         0        0         0         0          0           0            0          0             0         0               0         1          0           0           0       0          0\n",
      "22         0        0         0         0          0           0            0          0             1         0               0         0          0           0           0       0          0\n",
      "23         0        0         0         0          0           0            0          0             0         0               0         0          1           0           0       0          0\n",
      "24         0        0         0         0          0           0            0          0             0         0               0         0          0           0           0       0          1\n",
      "25         0        0         0         0          0           0            0          0             1         0               0         0          0           0           0       0          0\n",
      "26         1        0         0         0          0           0            0          0             0         0               0         0          0           0           0       0          0\n",
      "27         1        0         0         0          0           0            0          0             0         0               0         0          0           0           0       0          0\n",
      "28         0        0         0         0          0           0            0          0             0         0               0         0          0           0           0       0          1\n",
      "29         0        1         0         0          0           0            0          0             0         0               0         0          0           0           0       0          0\n",
      "30         0        0         0         0          0           0            0          0             1         0               0         0          0           0           0       0          0\n",
      "31         0        0         0         0          0           0            0          0             0         0               0         0          0           0           0       0          1\n",
      "32         0        0         0         1          0           0            0          0             0         0               0         0          0           0           0       0          0\n",
      "33         0        1         0         0          0           0            0          0             0         0               0         0          0           0           0       0          0\n",
      "34         0        0         0         0          0           0            0          0             0         0               0         1          0           0           0       0          0\n",
      "35         0        0         0         0          0           0            0          0             1         0               0         0          0           0           0       0          0\n"
     ]
    }
   ],
   "source": [
    "# One Hot Encode the car column\n",
    "import pandas as pd\n",
    "\n",
    "cars = pd.read_csv(\"G:/Machine Learning/w3 School/Multiple Regression/data.csv\")\n",
    "\n",
    "ohe_cars = pd.get_dummies(cars[['Car']])\n",
    "\n",
    "print(ohe_cars.to_string())"
   ]
  },
  {
   "cell_type": "code",
   "execution_count": 5,
   "id": "34a607a6",
   "metadata": {},
   "outputs": [
    {
     "name": "stdout",
     "output_type": "stream",
     "text": [
      "[122.45153299]\n"
     ]
    }
   ],
   "source": [
    "# predict CO2\n",
    "import pandas as pd\n",
    "from sklearn import linear_model\n",
    "\n",
    "cars = pd.read_csv(\"G:/Machine Learning/w3 School/Multiple Regression/data.csv\")\n",
    "\n",
    "ohe_cars = pd.get_dummies(cars[['Car']])\n",
    "\n",
    "X = pd.concat([cars[['Volume', 'Weight']],ohe_cars], axis= 1)\n",
    "y = cars['CO2']\n",
    "\n",
    "regr = linear_model.LinearRegression()\n",
    "regr.fit(X, y)\n",
    "\n",
    "input_data =pd.DataFrame([[2300, 1300,0,0,0,0,0,0,0,0,0,0,0,0,0,0,0,1,0]], columns=X.columns)\n",
    "\n",
    "predictedCO2 = regr.predict(input_data)\n",
    "\n",
    "print(predictedCO2)"
   ]
  },
  {
   "cell_type": "code",
   "execution_count": 6,
   "id": "f41537df",
   "metadata": {},
   "outputs": [
    {
     "name": "stdout",
     "output_type": "stream",
     "text": [
      "  color\n",
      "0  blue\n",
      "1   red\n"
     ]
    }
   ],
   "source": [
    "# Dummifing\n",
    "\n",
    "colors = pd.DataFrame({'color': ['blue', 'red']})\n",
    "\n",
    "print(colors)"
   ]
  },
  {
   "cell_type": "code",
   "execution_count": 7,
   "id": "2ebfadf0",
   "metadata": {},
   "outputs": [
    {
     "name": "stdout",
     "output_type": "stream",
     "text": [
      "   color_red\n",
      "0          0\n",
      "1          1\n"
     ]
    }
   ],
   "source": [
    "import pandas as pd\n",
    "\n",
    "colors = pd.DataFrame({'color': ['blue', 'red']})\n",
    "\n",
    "dummies = pd.get_dummies(colors, drop_first = True, dtype = int)\n",
    "\n",
    "print(dummies)"
   ]
  },
  {
   "cell_type": "code",
   "execution_count": 10,
   "id": "53a12b14",
   "metadata": {},
   "outputs": [
    {
     "name": "stdout",
     "output_type": "stream",
     "text": [
      "   color_green  color_red  color\n",
      "0            0          0   blue\n",
      "1            0          1    red\n",
      "2            1          0  green\n"
     ]
    }
   ],
   "source": [
    "# when multiple column have\n",
    "import pandas as pd\n",
    "\n",
    "colors = pd.DataFrame({'color': ['blue', 'red','green']})\n",
    "\n",
    "dummies = pd.get_dummies(colors[['color']], drop_first =True, dtype = int)\n",
    "dummies['color'] = colors['color']\n",
    "\n",
    "print(dummies)"
   ]
  },
  {
   "cell_type": "code",
   "execution_count": 11,
   "id": "29b402f3",
   "metadata": {},
   "outputs": [
    {
     "name": "stdout",
     "output_type": "stream",
     "text": [
      "   color_blue  color_green  color_red  color\n",
      "0           1            0          0   blue\n",
      "1           0            0          1    red\n",
      "2           0            1          0  green\n"
     ]
    }
   ],
   "source": [
    "# without drop_first parameter\n",
    "import pandas as pd\n",
    "\n",
    "colors = pd.DataFrame({'color': ['blue', 'red','green']})\n",
    "\n",
    "dummies = pd.get_dummies(colors[['color']], dtype = int)\n",
    "dummies['color'] = colors['color']\n",
    "\n",
    "print(dummies)"
   ]
  }
 ],
 "metadata": {
  "kernelspec": {
   "display_name": "Python 3 (ipykernel)",
   "language": "python",
   "name": "python3"
  },
  "language_info": {
   "codemirror_mode": {
    "name": "ipython",
    "version": 3
   },
   "file_extension": ".py",
   "mimetype": "text/x-python",
   "name": "python",
   "nbconvert_exporter": "python",
   "pygments_lexer": "ipython3",
   "version": "3.10.9"
  }
 },
 "nbformat": 4,
 "nbformat_minor": 5
}
