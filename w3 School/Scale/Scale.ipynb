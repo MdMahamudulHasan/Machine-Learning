{
 "cells": [
  {
   "cell_type": "code",
   "execution_count": 1,
   "id": "c3e418bd",
   "metadata": {},
   "outputs": [
    {
     "name": "stdout",
     "output_type": "stream",
     "text": [
      "          Car       Model  Volume  Weight  CO2\n",
      "0      Toyota        Aygo     1.0     790   99\n",
      "1  Mitsubishi  Space Star     1.2    1160   95\n",
      "2       Skoda      Citigo     1.0     929   95\n",
      "3        Fiat         500     0.9     865   90\n",
      "4        Mini      Cooper     1.5    1140  105\n"
     ]
    }
   ],
   "source": [
    "# Scale all values in the weight and volume columns:\n",
    "\n",
    "import pandas as pd\n",
    "from sklearn.preprocessing import StandardScaler\n",
    "scaler = StandardScaler()\n",
    "\n",
    "df = pd.read_csv(\"G:/Machine Learning/w3 School/Scale/data.csv\")\n",
    "\n",
    "print(df.head())"
   ]
  },
  {
   "cell_type": "code",
   "execution_count": 2,
   "id": "bea65d8c",
   "metadata": {},
   "outputs": [
    {
     "name": "stdout",
     "output_type": "stream",
     "text": [
      "[[-1.59336644 -2.10389253]\n",
      " [-1.07190106 -0.55407235]\n",
      " [-1.59336644 -1.52166278]\n",
      " [-1.85409913 -1.78973979]\n",
      " [-0.28970299 -0.63784641]\n",
      " [-1.59336644 -1.52166278]\n",
      " [-0.55043568 -0.76769621]\n",
      " [-0.28970299  0.3046118 ]\n",
      " [-0.28970299 -0.7551301 ]\n",
      " [-0.0289703  -0.59595938]\n",
      " [-1.33263375 -1.30803892]\n",
      " [-0.81116837 -1.26615189]\n",
      " [-1.59336644 -0.7551301 ]\n",
      " [-0.0289703  -0.16871166]\n",
      " [-0.0289703   0.14125238]\n",
      " [-0.0289703   0.15800719]\n",
      " [-0.0289703   0.3046118 ]\n",
      " [ 1.53542584 -0.05142797]\n",
      " [-0.0289703  -0.72580918]\n",
      " [ 1.01396046  0.14962979]\n",
      " [-0.0289703   1.2219378 ]\n",
      " [ 1.01396046  0.5685001 ]\n",
      " [ 1.27469315  0.3046118 ]\n",
      " [-0.0289703   0.51404696]\n",
      " [ 1.01396046  0.51404696]\n",
      " [-0.28970299  0.72348212]\n",
      " [ 1.01396046  0.8281997 ]\n",
      " [ 1.01396046  1.81254495]\n",
      " [-0.0289703   0.96642691]\n",
      " [ 1.01396046  1.72877089]\n",
      " [ 1.27469315  1.30990057]\n",
      " [ 1.01396046  1.90050772]\n",
      " [-0.0289703  -0.23991961]\n",
      " [-0.0289703   0.40932938]\n",
      " [-0.0289703   0.47215993]\n",
      " [ 2.31762392  0.4302729 ]]\n"
     ]
    }
   ],
   "source": [
    "# Scale all values in the weight and volume columns:\n",
    "\n",
    "import pandas as pd\n",
    "from sklearn.preprocessing import StandardScaler\n",
    "scale = StandardScaler()\n",
    "\n",
    "df = pd.read_csv(\"G:/Machine Learning/w3 School/Scale/data.csv\")\n",
    "\n",
    "X = df[['Volume', 'Weight']]\n",
    "y = df['CO2']\n",
    "\n",
    "scaledX = scale.fit_transform(X)\n",
    "\n",
    "print(scaledX)"
   ]
  },
  {
   "cell_type": "code",
   "execution_count": 4,
   "id": "6259578f",
   "metadata": {},
   "outputs": [
    {
     "name": "stdout",
     "output_type": "stream",
     "text": [
      "[107.2087328]\n"
     ]
    }
   ],
   "source": [
    "# Predict the CO2 emission from a 1.3 liter car that weighs 2300 kilograms:\n",
    "\n",
    "import pandas as pd\n",
    "from sklearn import linear_model\n",
    "from sklearn.preprocessing import StandardScaler\n",
    "scaler = StandardScaler()\n",
    "\n",
    "df = pd.read_csv(\"G:/Machine Learning/w3 School/Scale/data.csv\")\n",
    "\n",
    "X = df[['Volume', 'Weight']]\n",
    "y = df['CO2']\n",
    "\n",
    "scaledX = scale.fit_transform(X)\n",
    "\n",
    "regr = linear_model.LinearRegression()\n",
    "regr.fit(scaledX, y)\n",
    "\n",
    "predict_data = pd.DataFrame({'Volume':[1.3],'Weight':[2300]})\n",
    "scaled = scale.transform(predict_data)\n",
    "\n",
    "predictedCO2 = regr.predict([scaled[0]])\n",
    "\n",
    "print(predictedCO2)"
   ]
  },
  {
   "cell_type": "code",
   "execution_count": null,
   "id": "723e7773",
   "metadata": {},
   "outputs": [],
   "source": []
  }
 ],
 "metadata": {
  "kernelspec": {
   "display_name": "Python 3 (ipykernel)",
   "language": "python",
   "name": "python3"
  },
  "language_info": {
   "codemirror_mode": {
    "name": "ipython",
    "version": 3
   },
   "file_extension": ".py",
   "mimetype": "text/x-python",
   "name": "python",
   "nbconvert_exporter": "python",
   "pygments_lexer": "ipython3",
   "version": "3.10.9"
  }
 },
 "nbformat": 4,
 "nbformat_minor": 5
}
